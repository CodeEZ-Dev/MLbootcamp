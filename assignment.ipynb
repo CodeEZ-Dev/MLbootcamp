{
 "cells": [
  {
   "cell_type": "markdown",
   "id": "c0d327ce-bac7-4edc-93df-213881209322",
   "metadata": {},
   "source": [
    "##### WAP to accept two numbers from the user and display their sum"
   ]
  },
  {
   "cell_type": "code",
   "execution_count": 1,
   "id": "09767098-148f-4da7-a665-b03d01946e07",
   "metadata": {},
   "outputs": [
    {
     "name": "stdin",
     "output_type": "stream",
     "text": [
      "Enter 1st Number:  10\n",
      "Enter 2nd Number:  25\n"
     ]
    },
    {
     "name": "stdout",
     "output_type": "stream",
     "text": [
      "Addition of two numbers: 35\n"
     ]
    }
   ],
   "source": [
    "num1 = int(input(\"Enter 1st Number: \"))\n",
    "num2 = int(input(\"Enter 2nd Number: \"))\n",
    "num3 = num1+ num2\n",
    "print(f'Addition of two numbers: {num3}')"
   ]
  },
  {
   "cell_type": "markdown",
   "id": "4e38e72f-cff8-4d56-80c6-57c27d5bf110",
   "metadata": {},
   "source": [
    "##### WAP to accept radius of a Circle from the user and calculate area and circumference"
   ]
  },
  {
   "cell_type": "code",
   "execution_count": 6,
   "id": "1ff793c2-55f0-424c-af94-8e4f6e07433f",
   "metadata": {},
   "outputs": [
    {
     "name": "stdin",
     "output_type": "stream",
     "text": [
      "Enter a radius 25.0\n"
     ]
    },
    {
     "name": "stdout",
     "output_type": "stream",
     "text": [
      "Area of circle is: 1963.4954084936207\n",
      "Circumference of a Circle is: 157.07963267948966\n"
     ]
    }
   ],
   "source": [
    "# Area of a circle is: A = πr² =  π * radius * radius\n",
    "# Circumference of a Circle = 2πr = 2 * π * radius\n",
    "\n",
    "import math\n",
    "radius = float(input('Enter a radius'))\n",
    "\n",
    "area_of_circle = math.pi * radius * radius \n",
    "circumference_of_circle = 2 * math.pi * radius \n",
    "\n",
    "print(f'Area of circle is: {area_of_circle}')\n",
    "print(f'Circumference of a Circle is: {circumference_of_circle}')\n"
   ]
  },
  {
   "cell_type": "markdown",
   "id": "69e356d8-9b88-4144-85bb-2bdf6af947d5",
   "metadata": {},
   "source": [
    "##### WAP to accept roll number , grade and percentage as input from the user and display it back"
   ]
  },
  {
   "cell_type": "code",
   "execution_count": 10,
   "id": "29ab2f4c-faa1-45de-85fc-197bfb2a1681",
   "metadata": {},
   "outputs": [
    {
     "name": "stdin",
     "output_type": "stream",
     "text": [
      "Enter your roll number:  110\n",
      "Enter your grade:  A+\n",
      "Enter your percentage:  98.5\n"
     ]
    },
    {
     "name": "stdout",
     "output_type": "stream",
     "text": [
      " Your roll number 110, Grade A+ and percentage is 98.5 %\n"
     ]
    }
   ],
   "source": [
    "roll_num = int(input(\"Enter your roll number: \"))\n",
    "grade = input(\"Enter your grade: \")\n",
    "percentage = float(input(\"Enter your percentage: \"))\n",
    "\n",
    "print(f' Your roll number {roll_num}, Grade {grade} and percentage is {percentage} %')\n",
    "                     "
   ]
  },
  {
   "cell_type": "markdown",
   "id": "6a819a58-0872-4160-b1b4-de512adb3978",
   "metadata": {},
   "source": [
    "##### Write a program that asks the user to enter his/her name and age. Print out a message , displaying the user’s name along with the year in which they will turn 100 years old."
   ]
  },
  {
   "cell_type": "code",
   "execution_count": 35,
   "id": "080f1f1e-c1a3-462d-9fb1-0d19084eb28f",
   "metadata": {},
   "outputs": [
    {
     "name": "stdin",
     "output_type": "stream",
     "text": [
      "Enter your name:  Muralidharan\n",
      "Enter your age:  34\n"
     ]
    },
    {
     "name": "stdout",
     "output_type": "stream",
     "text": [
      "My name is Muralidharan, age is 34 and turn 100 years old 2088\n"
     ]
    }
   ],
   "source": [
    "import datetime\n",
    "\n",
    "YEARS_OLD = 100\n",
    "\n",
    "name = input(\"Enter your name: \")\n",
    "age = int(input(\"Enter your age: \"))\n",
    "year = datetime.date.today().year\n",
    "year_of_100 = year + (YEARS_OLD - age)\n",
    "print(f'My name is {name}, age is {age} and turn 100 years old {year_of_100}')\n"
   ]
  },
  {
   "cell_type": "markdown",
   "id": "d3f7dc39-0d73-462b-bba8-2b3389f0e0fe",
   "metadata": {},
   "source": [
    "##### Write a program that asks the user to input 2 integers and adds them . Accept both the numbers in a single line only"
   ]
  },
  {
   "cell_type": "code",
   "execution_count": 19,
   "id": "656547a8-3b9a-45f1-9614-0ffc72f31d72",
   "metadata": {},
   "outputs": [
    {
     "name": "stdin",
     "output_type": "stream",
     "text": [
      " 20 40\n"
     ]
    },
    {
     "name": "stdout",
     "output_type": "stream",
     "text": [
      "addition of two numbers 60\n"
     ]
    }
   ],
   "source": [
    "num1 , num2 = map(int, input().split())\n",
    "print(f'addition of two numbers {num1+num2}')"
   ]
  },
  {
   "cell_type": "markdown",
   "id": "59c4e82a-d9b0-424e-9def-de8742d55626",
   "metadata": {},
   "source": [
    "##### Write a Python program which accepts the user's first and last name and print them in reverse order with a space between them."
   ]
  },
  {
   "cell_type": "code",
   "execution_count": 26,
   "id": "2ed53a6a-514f-42d6-bfec-cca92aabd025",
   "metadata": {},
   "outputs": [
    {
     "name": "stdin",
     "output_type": "stream",
     "text": [
      "Enter your first name:  Muralidharan\n",
      "Enter your last name:  Venkadesan\n"
     ]
    },
    {
     "name": "stdout",
     "output_type": "stream",
     "text": [
      "Full name reverse order narahdilaruM nasedakneV\n"
     ]
    }
   ],
   "source": [
    "first_name = input(\"Enter your first name: \")\n",
    "last_name = input(\"Enter your last name: \")\n",
    "print(f'Full name reverse order {first_name[::-1].strip()} {last_name[::-1].strip()}')"
   ]
  },
  {
   "cell_type": "markdown",
   "id": "0e9be8c0-c9ad-48f4-b8b9-257fc4c9695c",
   "metadata": {},
   "source": [
    "##### WAP to accept an integer from the user and check whether it is an even or odd "
   ]
  },
  {
   "cell_type": "code",
   "execution_count": 34,
   "id": "c83176c3-d4b3-49f5-bcf4-034977e19637",
   "metadata": {},
   "outputs": [
    {
     "name": "stdin",
     "output_type": "stream",
     "text": [
      "Enter a number:  25\n"
     ]
    },
    {
     "name": "stdout",
     "output_type": "stream",
     "text": [
      "Found the odd number: 25\n"
     ]
    }
   ],
   "source": [
    "def find_even_odd(num):\n",
    "    if (num % 2) == 0:\n",
    "        print(f'Found the even number: {num}')\n",
    "    else:\n",
    "         print(f'Found the odd number: {num}')\n",
    "\n",
    "number = int(input(\"Enter a number: \"))\n",
    "\n",
    "find_even_odd(number)"
   ]
  },
  {
   "cell_type": "markdown",
   "id": "7f6d6abd-333e-475a-b23c-e15ab1bc04fb",
   "metadata": {},
   "source": [
    "##### WAP to accept a character from the user and check whether it is a capital letter or small letter. Assume user will input only alphabets"
   ]
  },
  {
   "cell_type": "code",
   "execution_count": 33,
   "id": "06e78ce2-0b70-4369-90f2-ba0c555c496f",
   "metadata": {},
   "outputs": [
    {
     "name": "stdin",
     "output_type": "stream",
     "text": [
      "Enter a character:  M\n"
     ]
    },
    {
     "name": "stdout",
     "output_type": "stream",
     "text": [
      "Found capital letter M\n"
     ]
    }
   ],
   "source": [
    "def check_letters(ch):\n",
    "    \n",
    "    if ch >= 'A' and ch <= 'Z':\n",
    "        print(f'Found capital letter {ch}')\n",
    "    elif ch >= 'a' and ch <='z':\n",
    "        print(f'Found small letter {ch}')\n",
    "        \n",
    "char = input('Enter a character: ')\n",
    "check_letters(char)\n",
    "    "
   ]
  },
  {
   "cell_type": "markdown",
   "id": "5f5fa1d6-6043-4c8d-ae82-65126b3a325c",
   "metadata": {},
   "source": [
    "##### WAP to accept a character from the user and check whether it is a capital letter or small letter or a digit or some special symbol"
   ]
  },
  {
   "cell_type": "code",
   "execution_count": 41,
   "id": "c212eb97-78c9-407b-a359-1bb1de2da9cb",
   "metadata": {},
   "outputs": [
    {
     "name": "stdin",
     "output_type": "stream",
     "text": [
      "Enter a character:  ^\n"
     ]
    },
    {
     "name": "stdout",
     "output_type": "stream",
     "text": [
      "Found Special symbol ^\n"
     ]
    }
   ],
   "source": [
    "def check_letters_special_char(ch):\n",
    "    \n",
    "    if ch >= 'A' and ch <= 'Z':\n",
    "        print(f'Found capital letter {ch}')\n",
    "    elif ch >= 'a' and ch <='z':\n",
    "        print(f'Found small letter {ch}')\n",
    "    elif ch.isdigit():\n",
    "        print(f'Found digits {ch}')\n",
    "    else:\n",
    "        print(f'Found Special symbol {ch}')\n",
    "        \n",
    "char = input('Enter a character: ')\n",
    "check_letters_special_char(char)"
   ]
  },
  {
   "cell_type": "markdown",
   "id": "7c79cc57-ea14-49f9-9426-a2b2ad17fd2b",
   "metadata": {},
   "source": [
    "##### WAP to accept 3 integers from the user and without using any logical operator and cascading of relational operators , find out the greatest number amongst them"
   ]
  },
  {
   "cell_type": "code",
   "execution_count": 43,
   "id": "fb69661f-21b4-45d8-8a1e-95482b804ded",
   "metadata": {},
   "outputs": [
    {
     "name": "stdin",
     "output_type": "stream",
     "text": [
      "Enter a first number:  55\n",
      "Enter a 2nd number:  20\n",
      "Enter a 3rd number:  30\n"
     ]
    },
    {
     "name": "stdout",
     "output_type": "stream",
     "text": [
      "55\n"
     ]
    }
   ],
   "source": [
    "def largestNum(num1, num2,num3):\n",
    "    if num1 >= num2:\n",
    "      print(num1)\n",
    "    elif num2 >= num3:\n",
    "      print(num2)\n",
    "    else:\n",
    "      print(num3)\n",
    "    \n",
    "a = int(input('Enter a first number: '))\n",
    "b = int(input('Enter a 2nd number: '))\n",
    "c= int(input('Enter a 3rd number: '))\n",
    "    \n",
    "largestNum(a,b,c)"
   ]
  },
  {
   "cell_type": "markdown",
   "id": "cdf5c4a1-610e-4b78-8ea2-1327b6dfe0d7",
   "metadata": {},
   "source": [
    "##### WAP to accept a year from the user and check whether it is a leap year or not."
   ]
  },
  {
   "cell_type": "code",
   "execution_count": 44,
   "id": "d6b1cf62-4c75-44bd-a478-11e3971a6cd1",
   "metadata": {},
   "outputs": [
    {
     "name": "stdin",
     "output_type": "stream",
     "text": [
      "Enter a year to check leap year or not 2017\n"
     ]
    },
    {
     "name": "stdout",
     "output_type": "stream",
     "text": [
      "2017 is not a leap year\n"
     ]
    }
   ],
   "source": [
    "def leap_year_or_not(year):\n",
    "\n",
    "    if (year % 400 == 0) and (year % 100 == 0):\n",
    "        print(\"{0} is a leap year\".format(year))\n",
    "        \n",
    "    elif (year % 4 ==0) and (year % 100 != 0):\n",
    "        print(\"{0} is a leap year\".format(year))\n",
    "    else:\n",
    "        print(\"{0} is not a leap year\".format(year))\n",
    "        \n",
    "year = int(input(\"Enter a year to check leap year or not\"))\n",
    "\n",
    "leap_year_or_not(year)"
   ]
  },
  {
   "cell_type": "code",
   "execution_count": null,
   "id": "bc476c46-2b1e-4a1c-aec6-828c90e43188",
   "metadata": {},
   "outputs": [],
   "source": []
  }
 ],
 "metadata": {
  "kernelspec": {
   "display_name": "Python 3 (ipykernel)",
   "language": "python",
   "name": "python3"
  },
  "language_info": {
   "codemirror_mode": {
    "name": "ipython",
    "version": 3
   },
   "file_extension": ".py",
   "mimetype": "text/x-python",
   "name": "python",
   "nbconvert_exporter": "python",
   "pygments_lexer": "ipython3",
   "version": "3.10.6"
  }
 },
 "nbformat": 4,
 "nbformat_minor": 5
}
